{
  "cells": [
    {
      "cell_type": "code",
      "execution_count": null,
      "metadata": {
        "vscode": {
          "languageId": "plaintext"
        }
      },
      "outputs": [],
      "source": [
        "# Demo de Integración - Patrones de Diseño y SQL Avanzado\n",
        "\n",
        "Este notebook demuestra la implementación y uso de los patrones de diseño en el sistema de gestión de ventas:\n",
        "\n",
        "1. **Singleton Pattern** - Conexión única a la base de datos\n",
        "2. **Factory Method Pattern** - Creación de modelos de datos\n",
        "3. **Builder Pattern** - Construcción fluida de consultas SQL\n",
        "4. **Decorator Pattern** - Funcionalidades adicionales (logging, timing, caching)\n",
        "5. **Strategy Pattern** - Diferentes algoritmos de análisis\n"
      ]
    },
    {
      "cell_type": "code",
      "execution_count": null,
      "metadata": {},
      "outputs": [],
      "source": [
        "# Importaciones necesarias\n",
        "import sys\n",
        "import os\n",
        "sys.path.append('..')\n",
        "\n",
        "import pandas as pd\n",
        "import numpy as np\n",
        "from datetime import datetime\n",
        "\n",
        "# Importar clases del proyecto\n",
        "from src.database.connection import DatabaseConnection\n",
        "from src.database.query_examples import QueryExamples\n",
        "from src.utils.model_factory import ModelFactoryRegistry, CategoryFactory, ProductFactory\n",
        "from src.utils.query_builder import SQLQueryBuilder, QueryBuilderDirector\n",
        "from src.utils.decorators import database_operation, timing_decorator, logging_decorator\n",
        "from src.utils.analysis_strategies import (\n",
        "    RevenueAnalysisStrategy, \n",
        "    QuantityAnalysisStrategy, \n",
        "    CustomerBehaviorAnalysisStrategy,\n",
        "    SalesAnalysisContext,\n",
        "    AnalysisStrategyFactory\n",
        ")\n",
        "\n",
        "print(\"✅ Importaciones completadas exitosamente\")\n"
      ]
    }
  ],
  "metadata": {
    "language_info": {
      "name": "python"
    }
  },
  "nbformat": 4,
  "nbformat_minor": 2
}
